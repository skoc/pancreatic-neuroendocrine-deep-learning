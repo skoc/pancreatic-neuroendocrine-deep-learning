{
 "cells": [
  {
   "cell_type": "code",
   "execution_count": 13,
   "metadata": {},
   "outputs": [],
   "source": [
    "import pandas as pd\n",
    "import os\n",
    "import glob\n",
    "\n",
    "from PIL import Image\n",
    "from collections import Counter\n",
    "import shutil"
   ]
  },
  {
   "cell_type": "code",
   "execution_count": 30,
   "metadata": {},
   "outputs": [],
   "source": [
    "PATH_IMG = '/kuacc/users/skoc21/dataset/pannet/wsi-tiles/annotated-qupath/'\n",
    "os.chdir(PATH_IMG)"
   ]
  },
  {
   "cell_type": "code",
   "execution_count": 31,
   "metadata": {},
   "outputs": [],
   "source": [
    "# Get List of Files with Specific Extension - tiles\n",
    "lst_tiles = [f for f in glob.glob(\"*.jpg\")]\n",
    "\n",
    "# Parse Filenames according to Stroma, pannet, normal\n",
    "lst_class = [f.split('__')[-1].split('.')[0] for f in lst_tiles]\n",
    "lst_class = [''.join(filter(lambda x: not x.isdigit(), c)) for c in lst_class]\n",
    "\n",
    "# Move to seperate folders\n"
   ]
  },
  {
   "cell_type": "code",
   "execution_count": 32,
   "metadata": {},
   "outputs": [
    {
     "data": {
      "text/plain": [
       "Counter({'normal': 9547, 'pannet': 12051, 'Stroma': 2986, 'noise': 2833})"
      ]
     },
     "execution_count": 32,
     "metadata": {},
     "output_type": "execute_result"
    }
   ],
   "source": [
    "dict_count = Counter(lst_class)\n",
    "# dict_count.pop('noise', None)\n",
    "dict_count"
   ]
  },
  {
   "cell_type": "code",
   "execution_count": 23,
   "metadata": {},
   "outputs": [],
   "source": [
    "def get_class(f):\n",
    "    ff = f.split('__')[-1].split('.')[0]\n",
    "    return ''.join(filter(lambda x: not x.isdigit(), ff))"
   ]
  },
  {
   "cell_type": "code",
   "execution_count": 25,
   "metadata": {},
   "outputs": [
    {
     "data": {
      "text/plain": [
       "'pannet'"
      ]
     },
     "execution_count": 25,
     "metadata": {},
     "output_type": "execute_result"
    }
   ],
   "source": [
    "get_class(tile)"
   ]
  },
  {
   "cell_type": "markdown",
   "metadata": {},
   "source": [
    "## Drop Height != Width Image Tiles"
   ]
  },
  {
   "cell_type": "code",
   "execution_count": 33,
   "metadata": {},
   "outputs": [
    {
     "name": "stdout",
     "output_type": "stream",
     "text": [
      "Non Well-shape Image Count: 7881\tPercentage in the Dataset: 28.745%\n"
     ]
    }
   ],
   "source": [
    "# Remove Height != Width Tiles\n",
    "counter_drop = 0\n",
    "# total_normal, total_pannet, total_stroma = 0, 0, 0\n",
    "# max_count_per_cls = dict_count[min(dict_count.keys())]\n",
    "\n",
    "for tile in lst_tiles:\n",
    "    path_img = PATH_IMG + tile\n",
    "    with Image.open(path_img) as img:\n",
    "        width, height = img.size\n",
    "        if (width == height):\n",
    "            if get_class(tile) != 'noise':\n",
    "                shutil.copy(path_img, \"../annotated-qupath-cleaned/\")\n",
    "        else:\n",
    "            counter_drop += 1\n",
    "\n",
    "print(f\"Non Well-shape Image Count: {counter_drop}\\tPercentage in the Dataset: {round(100*counter_drop/len(lst_tiles),3)}%\")\n",
    "\n",
    "# Get Same Number of Samples from each Class - Get min(len(normal), len(pannet), len(stroma))\n",
    "\n"
   ]
  },
  {
   "cell_type": "code",
   "execution_count": 34,
   "metadata": {},
   "outputs": [
    {
     "name": "stdout",
     "output_type": "stream",
     "text": [
      "17343\n"
     ]
    }
   ],
   "source": [
    "!ls -hlt ../annotated-qupath-cleaned/ | wc -l"
   ]
  },
  {
   "cell_type": "markdown",
   "metadata": {},
   "source": [
    "## Get Equal Number for Samples from each Class <= min(Pannet, Normal, Stroma)"
   ]
  },
  {
   "cell_type": "code",
   "execution_count": 35,
   "metadata": {},
   "outputs": [
    {
     "data": {
      "text/plain": [
       "Counter({'pannet': 8906, 'normal': 6416, 'Stroma': 2020})"
      ]
     },
     "execution_count": 35,
     "metadata": {},
     "output_type": "execute_result"
    }
   ],
   "source": [
    "# Get List of Files with Specific Extension - tiles\n",
    "PATH_TILES = \"/kuacc/users/skoc21/dataset/pannet/wsi-tiles/annotated-qupath-cleaned/\"\n",
    "lst_tiles = [f for f in glob.glob(PATH_TILES + \"/*.jpg\")]\n",
    "\n",
    "# Parse Filenames according to Stroma, pannet, normal\n",
    "lst_class = [f.split('__')[-1].split('.')[0] for f in lst_tiles]\n",
    "lst_class = [''.join(filter(lambda x: not x.isdigit(), c)) for c in lst_class]\n",
    "\n",
    "dict_count = Counter(lst_class)\n",
    "dict_count"
   ]
  },
  {
   "cell_type": "code",
   "execution_count": 38,
   "metadata": {},
   "outputs": [
    {
     "name": "stdout",
     "output_type": "stream",
     "text": [
      "Stroma Count: 2020\tPannet Count:2021\tNormal Count:2021\tDropped: 11280\n"
     ]
    }
   ],
   "source": [
    "counter_drop = 0\n",
    "total_normal, total_pannet, total_stroma = 0, 0, 0\n",
    "max_count_per_cls = dict_count[min(dict_count.keys())]\n",
    "\n",
    "for tile in lst_tiles:\n",
    "    \n",
    "    if (get_class(tile) == 'Stroma') and (total_stroma <= max_count_per_cls):\n",
    "        shutil.copy(tile, \"../annotated-qupath-v1/\")\n",
    "        total_stroma += 1\n",
    "    elif (get_class(tile) == 'pannet') and (total_pannet <= max_count_per_cls):\n",
    "        shutil.copy(tile, \"../annotated-qupath-v1/\")\n",
    "        total_pannet += 1\n",
    "    elif (get_class(tile) == 'normal') and (total_normal <= max_count_per_cls):\n",
    "        shutil.copy(tile, \"../annotated-qupath-v1/\")\n",
    "        total_normal += 1\n",
    "    else:\n",
    "        counter_drop += 1\n",
    "\n",
    "print(f\"Stroma Count: {total_stroma}\\tPannet Count:{total_pannet}\\tNormal Count:{total_normal}\\tDropped: {counter_drop}\")\n",
    "\n",
    "\n"
   ]
  },
  {
   "cell_type": "code",
   "execution_count": 39,
   "metadata": {},
   "outputs": [
    {
     "name": "stdout",
     "output_type": "stream",
     "text": [
      "6063\n"
     ]
    }
   ],
   "source": [
    "!ls -hlt ../annotated-qupath-v1/ | wc -l"
   ]
  },
  {
   "cell_type": "code",
   "execution_count": null,
   "metadata": {},
   "outputs": [],
   "source": []
  }
 ],
 "metadata": {
  "kernelspec": {
   "display_name": "Python 3",
   "language": "python",
   "name": "python3"
  },
  "language_info": {
   "codemirror_mode": {
    "name": "ipython",
    "version": 3
   },
   "file_extension": ".py",
   "mimetype": "text/x-python",
   "name": "python",
   "nbconvert_exporter": "python",
   "pygments_lexer": "ipython3",
   "version": "3.8.5"
  }
 },
 "nbformat": 4,
 "nbformat_minor": 4
}
