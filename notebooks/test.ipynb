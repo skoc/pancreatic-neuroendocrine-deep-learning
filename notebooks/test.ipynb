{
 "cells": [
  {
   "cell_type": "code",
   "execution_count": 11,
   "metadata": {},
   "outputs": [
    {
     "name": "stdout",
     "output_type": "stream",
     "text": [
      "The autoreload extension is already loaded. To reload it, use:\n",
      "  %reload_ext autoreload\n"
     ]
    }
   ],
   "source": [
    "import torch\n",
    "import torchvision\n",
    "import torch.nn as nn\n",
    "\n",
    "import pandas as pd\n",
    "from typing import (Dict, IO, List, Tuple)\n",
    "from pathlib import Path\n",
    "\n",
    "%load_ext autoreload\n",
    "%autoreload 2"
   ]
  },
  {
   "cell_type": "code",
   "execution_count": 2,
   "metadata": {},
   "outputs": [
    {
     "name": "stdout",
     "output_type": "stream",
     "text": [
      "using device: cuda\n"
     ]
    }
   ],
   "source": [
    "USE_GPU = True\n",
    "dtype = torch.float32 # we will be using float throughout this tutorial\n",
    "\n",
    "if USE_GPU and torch.cuda.is_available():\n",
    "    device = torch.device('cuda')\n",
    "else:\n",
    "    device = torch.device('cpu')\n",
    "\n",
    "print('using device:', device)"
   ]
  },
  {
   "cell_type": "code",
   "execution_count": 3,
   "metadata": {},
   "outputs": [],
   "source": [
    "MODEL_PATH = 'saved_models/resnet18_e10_va0.99230.pt'\n",
    "RETURN_PREACTIVATION = True  # return features from the model, if false return classification logits\n",
    "NUM_CLASSES = 3  # only used if RETURN_PREACTIVATION = False\n"
   ]
  },
  {
   "cell_type": "code",
   "execution_count": 4,
   "metadata": {},
   "outputs": [],
   "source": [
    "def load_model_weights(model, weights):\n",
    "\n",
    "    model_dict = model.state_dict()\n",
    "    weights = {k: v for k, v in weights.items() if k in model_dict}\n",
    "    if weights == {}:\n",
    "        print('No weight could be loaded..')\n",
    "    model_dict.update(weights)\n",
    "    model.load_state_dict(model_dict)\n",
    "\n",
    "    return model"
   ]
  },
  {
   "cell_type": "code",
   "execution_count": 5,
   "metadata": {},
   "outputs": [],
   "source": [
    "model = torchvision.models.__dict__['resnet18'](pretrained=False)\n",
    "state_dict = torch.load(MODEL_PATH, map_location='cuda:0')['model_state_dict']\n"
   ]
  },
  {
   "cell_type": "code",
   "execution_count": 6,
   "metadata": {},
   "outputs": [],
   "source": [
    "# for key in list(state_dict.keys()):\n",
    "#     state_dict[key.replace('model.', '').replace('resnet.', '')] = state_dict.pop(key)\n",
    "\n",
    "model = load_model_weights(model, state_dict)\n",
    "\n",
    "if torch.cuda.is_available():\n",
    "    model.cuda()\n",
    "\n",
    "for param in model.parameters():\n",
    "    param.requires_grad = False\n"
   ]
  },
  {
   "cell_type": "code",
   "execution_count": 35,
   "metadata": {},
   "outputs": [],
   "source": [
    "from dataloader import WsiDataset\n",
    "from torch.utils.data import DataLoader\n",
    "\n",
    "PATH_IMG = \"/kuacc/users/skoc21/dataset/pannet/wsi/wsi-tiles/HE__20211011_160350_(3)/\"\n",
    "fname = PATH_IMG.split('/')[-2]\n",
    "\n",
    "output_folder = Path('output_folder')\n",
    "image_folder = Path(fname)\n",
    "\n",
    "dataset = WsiDataset(img_dir=PATH_IMG, extension='png')\n",
    "dataloader_ts = DataLoader(dataset, batch_size=64)\n",
    "# lst_test_idx = pd.read_csv('test_idx.csv')['test_idx'].to_list()\n",
    "# test_sampler = torch.utils.data.SubsetRandomSampler(lst_test_idx)\n",
    "# dataloader_ts = DataLoader(dataset, batch_size=64, sampler=test_sampler)\n",
    "\n"
   ]
  },
  {
   "cell_type": "code",
   "execution_count": 21,
   "metadata": {
    "collapsed": true,
    "jupyter": {
     "outputs_hidden": true,
     "source_hidden": true
    }
   },
   "outputs": [
    {
     "ename": "KeyError",
     "evalue": "'ann'",
     "output_type": "error",
     "traceback": [
      "\u001b[0;31m---------------------------------------------------------------------------\u001b[0m",
      "\u001b[0;31mKeyError\u001b[0m                                  Traceback (most recent call last)",
      "\u001b[0;32m/tmp/ipykernel_3390/3107953804.py\u001b[0m in \u001b[0;36m<module>\u001b[0;34m\u001b[0m\n\u001b[1;32m      3\u001b[0m     \u001b[0mmodel\u001b[0m\u001b[0;34m.\u001b[0m\u001b[0meval\u001b[0m\u001b[0;34m(\u001b[0m\u001b[0;34m)\u001b[0m\u001b[0;34m\u001b[0m\u001b[0;34m\u001b[0m\u001b[0m\n\u001b[1;32m      4\u001b[0m     \u001b[0;32mfor\u001b[0m \u001b[0mdata_dict_ts\u001b[0m \u001b[0;32min\u001b[0m \u001b[0mdataloader_ts\u001b[0m\u001b[0;34m:\u001b[0m\u001b[0;34m\u001b[0m\u001b[0;34m\u001b[0m\u001b[0m\n\u001b[0;32m----> 5\u001b[0;31m         \u001b[0mdata_ts\u001b[0m\u001b[0;34m,\u001b[0m \u001b[0mtarget_ts\u001b[0m \u001b[0;34m=\u001b[0m \u001b[0mdata_dict_ts\u001b[0m\u001b[0;34m[\u001b[0m\u001b[0;34m'image'\u001b[0m\u001b[0;34m]\u001b[0m\u001b[0;34m.\u001b[0m\u001b[0mto\u001b[0m\u001b[0;34m(\u001b[0m\u001b[0mdevice\u001b[0m\u001b[0;34m)\u001b[0m\u001b[0;34m,\u001b[0m \u001b[0mdata_dict_ts\u001b[0m\u001b[0;34m[\u001b[0m\u001b[0;34m'ann'\u001b[0m\u001b[0;34m]\u001b[0m\u001b[0;34m.\u001b[0m\u001b[0mto\u001b[0m\u001b[0;34m(\u001b[0m\u001b[0mdevice\u001b[0m\u001b[0;34m)\u001b[0m\u001b[0;34m\u001b[0m\u001b[0;34m\u001b[0m\u001b[0m\n\u001b[0m\u001b[1;32m      6\u001b[0m         \u001b[0moutputs_ts\u001b[0m \u001b[0;34m=\u001b[0m \u001b[0mmodel\u001b[0m\u001b[0;34m(\u001b[0m\u001b[0mdata_ts\u001b[0m\u001b[0;34m)\u001b[0m\u001b[0;34m\u001b[0m\u001b[0;34m\u001b[0m\u001b[0m\n\u001b[1;32m      7\u001b[0m         \u001b[0mconfidence\u001b[0m\u001b[0;34m,\u001b[0m\u001b[0mpred_ts\u001b[0m \u001b[0;34m=\u001b[0m \u001b[0mtorch\u001b[0m\u001b[0;34m.\u001b[0m\u001b[0mmax\u001b[0m\u001b[0;34m(\u001b[0m\u001b[0mnn\u001b[0m\u001b[0;34m.\u001b[0m\u001b[0mSoftmax\u001b[0m\u001b[0;34m(\u001b[0m\u001b[0mdim\u001b[0m\u001b[0;34m=\u001b[0m\u001b[0;36m1\u001b[0m\u001b[0;34m)\u001b[0m\u001b[0;34m(\u001b[0m\u001b[0moutputs_ts\u001b[0m\u001b[0;34m)\u001b[0m\u001b[0;34m,\u001b[0m \u001b[0mdim\u001b[0m\u001b[0;34m=\u001b[0m\u001b[0;36m1\u001b[0m\u001b[0;34m)\u001b[0m\u001b[0;34m\u001b[0m\u001b[0;34m\u001b[0m\u001b[0m\n",
      "\u001b[0;31mKeyError\u001b[0m: 'ann'"
     ]
    }
   ],
   "source": [
    "correct_ts = 0\n",
    "with torch.no_grad():\n",
    "    model.eval()\n",
    "    for data_dict_ts in dataloader_ts:\n",
    "        data_ts, target_ts = data_dict_ts['image'].to(device), data_dict_ts['ann'].to(device)\n",
    "        outputs_ts = model(data_ts)\n",
    "        confidence,pred_ts = torch.max(nn.Softmax(dim=1)(outputs_ts), dim=1)\n",
    "        print(confidence,pred_ts)\n",
    "        correct_ts += torch.sum(pred_ts==target_ts).item()\n",
    "    print(100 * correct_ts/len(lst_test_idx))"
   ]
  },
  {
   "cell_type": "code",
   "execution_count": 36,
   "metadata": {},
   "outputs": [],
   "source": [
    "with output_folder.joinpath(f\"{image_folder.name}.csv\").open(\n",
    "        mode=\"w\") as writer:\n",
    "\n",
    "    writer.write(\"tile,x,y,prediction,confidence\\n\")\n",
    "\n",
    "    # Loop through all of the patches.\n",
    "    for batch_num, data_dict_ts in enumerate(dataloader_ts):\n",
    "        batch_window_names = data_dict_ts['name_img']\n",
    "\n",
    "        confidences, test_preds = torch.max(nn.Softmax(dim=1)(model(data_dict_ts['image'].to(device=device))), dim=1)\n",
    "        for i in range(test_preds.shape[0]):\n",
    "            # Find coordinates and predicted class.\n",
    "            xy = batch_window_names[i].split(\"_\")[-1].split(\".\")[0].split('-')[:2]\n",
    "            writer.write(\n",
    "                f\"{','.join([batch_window_names[i].split('/')[-1], xy[0], xy[1], f'{test_preds[i].data.item()}', f'{confidences[i].data.item():.5f}'])}\\n\"\n",
    "            )"
   ]
  },
  {
   "cell_type": "code",
   "execution_count": 38,
   "metadata": {},
   "outputs": [],
   "source": []
  },
  {
   "cell_type": "code",
   "execution_count": null,
   "metadata": {},
   "outputs": [],
   "source": []
  }
 ],
 "metadata": {
  "kernelspec": {
   "display_name": "env_torch",
   "language": "python",
   "name": "env_torch"
  },
  "language_info": {
   "codemirror_mode": {
    "name": "ipython",
    "version": 3
   },
   "file_extension": ".py",
   "mimetype": "text/x-python",
   "name": "python",
   "nbconvert_exporter": "python",
   "pygments_lexer": "ipython3",
   "version": "3.8.11"
  }
 },
 "nbformat": 4,
 "nbformat_minor": 4
}
