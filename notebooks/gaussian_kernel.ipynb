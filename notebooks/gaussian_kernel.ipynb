{
 "cells": [
  {
   "cell_type": "code",
   "execution_count": 2,
   "metadata": {},
   "outputs": [],
   "source": [
    "import numpy as np\n",
    "from scipy import signal\n",
    "import random\n",
    "\n",
    "import matplotlib.pyplot as plt\n",
    "from matplotlib import image\n",
    "%matplotlib inline"
   ]
  },
  {
   "cell_type": "markdown",
   "metadata": {},
   "source": [
    "![s](https://ars.els-cdn.com/content/image/1-s2.0-S1361841520302565-gr5_lrg.jpg)"
   ]
  },
  {
   "cell_type": "markdown",
   "metadata": {},
   "source": [
    "[Paper](https://www.sciencedirect.com/science/article/pii/S1361841520302565?casa_token=ndpdyXziblkAAAAA:NBcH_rGKkdDa7bRv4yLkS7QCCFnAl5UhxhrG8jvucxx-tJJF0EnAegWfkkezscNMfGKSwK2Fyg)"
   ]
  },
  {
   "cell_type": "markdown",
   "metadata": {},
   "source": [
    "### Gaussian Kernel"
   ]
  },
  {
   "cell_type": "code",
   "execution_count": 3,
   "metadata": {},
   "outputs": [],
   "source": [
    "def gaussian_kernel(kernlen=5, std=1):\n",
    "    \"\"\"Returns a 2D Gaussian kernel array.\"\"\"\n",
    "    gkern1d = signal.gaussian(kernlen, std=std).reshape(kernlen, 1)\n",
    "    gkern2d = np.outer(gkern1d, gkern1d)\n",
    "    return gkern2d"
   ]
  },
  {
   "cell_type": "markdown",
   "metadata": {},
   "source": [
    "### Numpy Convolution"
   ]
  },
  {
   "cell_type": "code",
   "execution_count": 4,
   "metadata": {},
   "outputs": [],
   "source": [
    "def convolution2d(image, kernel, bias):\n",
    "    \"\"\"Basic Numpy Convolution\"\"\"\n",
    "    m, n = kernel.shape\n",
    "    if (m == n):\n",
    "        y, x = image.shape\n",
    "        y = y - m + 1\n",
    "        x = x - m + 1\n",
    "        new_image = np.zeros((y,x))\n",
    "        for i in range(y):\n",
    "            for j in range(x):\n",
    "                new_image[i][j] = np.sum(image[i:i+m, j:j+m]*kernel) + bias\n",
    "    return new_image"
   ]
  },
  {
   "cell_type": "code",
   "execution_count": 5,
   "metadata": {},
   "outputs": [],
   "source": [
    "def create_mask(h, w, count=10):\n",
    "    \"\"\"Basic Random Marked Mask\"\"\"\n",
    "    maskq = np.zeros([w,h])\n",
    "    lst_points = [(random.randrange(0,h,5), random.randrange(0,h,5)) for _ in range(count)]\n",
    "\n",
    "    for p in lst_points:\n",
    "        maskq[p[0]][p[1]] = 255\n",
    "        \n",
    "    return maskq"
   ]
  },
  {
   "cell_type": "markdown",
   "metadata": {},
   "source": [
    "### Random Mask Image"
   ]
  },
  {
   "cell_type": "code",
   "execution_count": 6,
   "metadata": {},
   "outputs": [
    {
     "data": {
      "image/png": "[encoded data removed]",
      "text/plain": [
       "<Figure size 432x288 with 1 Axes>"
      ]
     },
     "metadata": {
      "needs_background": "light"
     },
     "output_type": "display_data"
    }
   ],
   "source": [
    "z = create_mask(128,128)\n",
    "img_mask = plt.imshow(z,cmap=\"gray\")\n",
    "plt.show()"
   ]
  },
  {
   "cell_type": "markdown",
   "metadata": {},
   "source": [
    "### Image After Gaussian Kernel Operation"
   ]
  },
  {
   "cell_type": "code",
   "execution_count": 7,
   "metadata": {},
   "outputs": [
    {
     "data": {
      "text/plain": [
       "<matplotlib.image.AxesImage at 0x7fd445838d30>"
      ]
     },
     "execution_count": 7,
     "metadata": {},
     "output_type": "execute_result"
    },
    {
     "data": {
      "image/png": "[encoded data removed]",
      "text/plain": [
       "<Figure size 432x288 with 1 Axes>"
      ]
     },
     "metadata": {
      "needs_background": "light"
     },
     "output_type": "display_data"
    }
   ],
   "source": [
    "img_conv = convolution2d(z, gaussian_kernel(3, std=1), bias = 0.001)\n",
    "plt.imshow(img_conv, cmap=\"gray\")"
   ]
  },
  {
   "cell_type": "markdown",
   "metadata": {},
   "source": [
    "Example Paper: \n"
   ]
  }
 ],
 "metadata": {
  "kernelspec": {
   "display_name": "Python 3",
   "language": "python",
   "name": "python3"
  },
  "language_info": {
   "codemirror_mode": {
    "name": "ipython",
    "version": 3
   },
   "file_extension": ".py",
   "mimetype": "text/x-python",
   "name": "python",
   "nbconvert_exporter": "python",
   "pygments_lexer": "ipython3",
   "version": "3.8.3"
  }
 },
 "nbformat": 4,
 "nbformat_minor": 4
}
